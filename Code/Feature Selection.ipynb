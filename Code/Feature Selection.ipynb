{
 "cells": [
  {
   "cell_type": "code",
   "execution_count": 1,
   "metadata": {},
   "outputs": [],
   "source": [
    "import numpy as np\n",
    "import pandas as pd\n",
    "\n",
    "import matplotlib.pyplot as plt\n",
    "plt.rcParams['font.size'] = 22\n",
    "import seaborn as sns\n",
    "\n",
    "import warnings\n",
    "warnings.filterwarnings('ignore')\n",
    "\n",
    "import lightgbm as lgb\n",
    "\n",
    "from sklearn.model_selection import train_test_split\n",
    "from sklearn.model_selection import KFold\n",
    "from sklearn.metrics import roc_auc_score\n",
    "from sklearn.preprocessing import LabelEncoder\n",
    "import gc"
   ]
  },
  {
   "cell_type": "code",
   "execution_count": 2,
   "metadata": {},
   "outputs": [],
   "source": [
    "df = pd.read_csv('../Input/Aggregated_Removed_Empty_60.csv')"
   ]
  },
  {
   "cell_type": "code",
   "execution_count": 3,
   "metadata": {},
   "outputs": [
    {
     "data": {
      "text/plain": [
       "(356244, 859)"
      ]
     },
     "execution_count": 3,
     "metadata": {},
     "output_type": "execute_result"
    }
   ],
   "source": [
    "df.shape"
   ]
  },
  {
   "cell_type": "code",
   "execution_count": 4,
   "metadata": {},
   "outputs": [
    {
     "name": "stdout",
     "output_type": "stream",
     "text": [
      "There are 659 columns with more than 60% mising values\n"
     ]
    },
    {
     "data": {
      "text/plain": [
       "(356244, 858)"
      ]
     },
     "execution_count": 4,
     "metadata": {},
     "output_type": "execute_result"
    }
   ],
   "source": [
    "empty_columns = (df.isnull().sum() / len(df)).sort_values(ascending = False)\n",
    "empty_columns.head()\n",
    "\n",
    "empty_columns = empty_columns.index[empty_columns > .60]\n",
    "\n",
    "print('There are %d columns with more than 60%% mising values' %len(empty_columns))\n",
    "\n",
    "# Drop the empty columns\n",
    "target_labels = df['TARGET']\n",
    "SK_IDS = df['SK_ID_CURR']\n",
    "\n",
    "df = pd.get_dummies(df.drop(columns = empty_columns))\n",
    "\n",
    "df.shape"
   ]
  },
  {
   "cell_type": "code",
   "execution_count": 5,
   "metadata": {},
   "outputs": [],
   "source": [
    "df = pd.read_csv('../Input/Cleaned_Aggregated_Features.csv')"
   ]
  },
  {
   "cell_type": "code",
   "execution_count": 6,
   "metadata": {},
   "outputs": [
    {
     "data": {
      "text/plain": [
       "(356244, 857)"
      ]
     },
     "execution_count": 6,
     "metadata": {},
     "output_type": "execute_result"
    }
   ],
   "source": [
    "df = pd.get_dummies(df.drop(columns = empty_columns))\n",
    "df.shape"
   ]
  },
  {
   "cell_type": "code",
   "execution_count": null,
   "metadata": {},
   "outputs": [],
   "source": [
    "# Threshold for removing correlated variables\n",
    "threshold = 0.8\n",
    "\n",
    "# Absolute value correlation matrix\n",
    "corr_matrix = df.corr().abs()\n",
    "del corr_matrix"
   ]
  },
  {
   "cell_type": "code",
   "execution_count": 5,
   "metadata": {},
   "outputs": [
    {
     "data": {
      "text/html": [
       "<div>\n",
       "<style scoped>\n",
       "    .dataframe tbody tr th:only-of-type {\n",
       "        vertical-align: middle;\n",
       "    }\n",
       "\n",
       "    .dataframe tbody tr th {\n",
       "        vertical-align: top;\n",
       "    }\n",
       "\n",
       "    .dataframe thead th {\n",
       "        text-align: right;\n",
       "    }\n",
       "</style>\n",
       "<table border=\"1\" class=\"dataframe\">\n",
       "  <thead>\n",
       "    <tr style=\"text-align: right;\">\n",
       "      <th></th>\n",
       "      <th>Unnamed: 0</th>\n",
       "      <th>Unnamed: 0.1</th>\n",
       "      <th>AMT_CREDIT</th>\n",
       "      <th>AMT_GOODS_PRICE</th>\n",
       "      <th>AMT_INCOME_TOTAL</th>\n",
       "      <th>AMT_REQ_CREDIT_BUREAU_MON</th>\n",
       "      <th>AMT_REQ_CREDIT_BUREAU_QRT</th>\n",
       "      <th>AMT_REQ_CREDIT_BUREAU_YEAR</th>\n",
       "      <th>APARTMENTS_AVG</th>\n",
       "      <th>APARTMENTS_MEDI</th>\n",
       "      <th>...</th>\n",
       "      <th>INS_ins AMT_INSTALMENT - AMT_PAYMENT_MIN</th>\n",
       "      <th>INS_ins AMT_INSTALMENT - AMT_PAYMENT_MAX</th>\n",
       "      <th>INS_ins AMT_INSTALMENT - AMT_PAYMENT_MEAN</th>\n",
       "      <th>INS_ins AMT_INSTALMENT - AMT_PAYMENT_VAR</th>\n",
       "      <th>INS_ins AMT_INSTALMENT - AMT_PAYMENT_SUM</th>\n",
       "      <th>INS_ins AMT_PAYMENT / AMT_INSTALMENT_MIN</th>\n",
       "      <th>INS_ins AMT_PAYMENT / AMT_INSTALMENT_MAX</th>\n",
       "      <th>INS_ins AMT_PAYMENT / AMT_INSTALMENT_MEAN</th>\n",
       "      <th>INS_ins AMT_PAYMENT / AMT_INSTALMENT_VAR</th>\n",
       "      <th>INS_ins AMT_PAYMENT / AMT_INSTALMENT_SUM</th>\n",
       "    </tr>\n",
       "  </thead>\n",
       "  <tbody>\n",
       "    <tr>\n",
       "      <th>Unnamed: 0</th>\n",
       "      <td>1.000000</td>\n",
       "      <td>1.000000</td>\n",
       "      <td>0.042400</td>\n",
       "      <td>0.042463</td>\n",
       "      <td>0.020216</td>\n",
       "      <td>0.061768</td>\n",
       "      <td>0.092033</td>\n",
       "      <td>0.012808</td>\n",
       "      <td>0.010543</td>\n",
       "      <td>0.010817</td>\n",
       "      <td>...</td>\n",
       "      <td>0.009414</td>\n",
       "      <td>0.006551</td>\n",
       "      <td>0.009100</td>\n",
       "      <td>0.000899</td>\n",
       "      <td>0.011408</td>\n",
       "      <td>0.001190</td>\n",
       "      <td>0.003166</td>\n",
       "      <td>0.004924</td>\n",
       "      <td>0.003779</td>\n",
       "      <td>0.002254</td>\n",
       "    </tr>\n",
       "    <tr>\n",
       "      <th>Unnamed: 0.1</th>\n",
       "      <td>1.000000</td>\n",
       "      <td>1.000000</td>\n",
       "      <td>0.042400</td>\n",
       "      <td>0.042463</td>\n",
       "      <td>0.020216</td>\n",
       "      <td>0.061768</td>\n",
       "      <td>0.092033</td>\n",
       "      <td>0.012808</td>\n",
       "      <td>0.010543</td>\n",
       "      <td>0.010817</td>\n",
       "      <td>...</td>\n",
       "      <td>0.009414</td>\n",
       "      <td>0.006551</td>\n",
       "      <td>0.009100</td>\n",
       "      <td>0.000899</td>\n",
       "      <td>0.011408</td>\n",
       "      <td>0.001190</td>\n",
       "      <td>0.003166</td>\n",
       "      <td>0.004924</td>\n",
       "      <td>0.003779</td>\n",
       "      <td>0.002254</td>\n",
       "    </tr>\n",
       "    <tr>\n",
       "      <th>AMT_CREDIT</th>\n",
       "      <td>0.042400</td>\n",
       "      <td>0.042400</td>\n",
       "      <td>1.000000</td>\n",
       "      <td>0.987161</td>\n",
       "      <td>0.345288</td>\n",
       "      <td>0.058058</td>\n",
       "      <td>0.003924</td>\n",
       "      <td>0.047655</td>\n",
       "      <td>0.060684</td>\n",
       "      <td>0.058884</td>\n",
       "      <td>...</td>\n",
       "      <td>0.074020</td>\n",
       "      <td>0.053792</td>\n",
       "      <td>0.064027</td>\n",
       "      <td>0.054479</td>\n",
       "      <td>0.062338</td>\n",
       "      <td>0.006213</td>\n",
       "      <td>0.003033</td>\n",
       "      <td>0.002241</td>\n",
       "      <td>0.001578</td>\n",
       "      <td>0.005999</td>\n",
       "    </tr>\n",
       "    <tr>\n",
       "      <th>AMT_GOODS_PRICE</th>\n",
       "      <td>0.042463</td>\n",
       "      <td>0.042463</td>\n",
       "      <td>0.987161</td>\n",
       "      <td>1.000000</td>\n",
       "      <td>0.351689</td>\n",
       "      <td>0.059860</td>\n",
       "      <td>0.003988</td>\n",
       "      <td>0.050087</td>\n",
       "      <td>0.065053</td>\n",
       "      <td>0.063297</td>\n",
       "      <td>...</td>\n",
       "      <td>0.076175</td>\n",
       "      <td>0.053135</td>\n",
       "      <td>0.067531</td>\n",
       "      <td>0.056794</td>\n",
       "      <td>0.065364</td>\n",
       "      <td>0.008877</td>\n",
       "      <td>0.002739</td>\n",
       "      <td>0.002246</td>\n",
       "      <td>0.001257</td>\n",
       "      <td>0.005473</td>\n",
       "    </tr>\n",
       "    <tr>\n",
       "      <th>AMT_INCOME_TOTAL</th>\n",
       "      <td>0.020216</td>\n",
       "      <td>0.020216</td>\n",
       "      <td>0.345288</td>\n",
       "      <td>0.351689</td>\n",
       "      <td>1.000000</td>\n",
       "      <td>0.053109</td>\n",
       "      <td>0.018480</td>\n",
       "      <td>0.027367</td>\n",
       "      <td>0.104055</td>\n",
       "      <td>0.101930</td>\n",
       "      <td>...</td>\n",
       "      <td>0.079044</td>\n",
       "      <td>0.104320</td>\n",
       "      <td>0.051465</td>\n",
       "      <td>0.054266</td>\n",
       "      <td>0.046261</td>\n",
       "      <td>0.024672</td>\n",
       "      <td>0.004959</td>\n",
       "      <td>0.006469</td>\n",
       "      <td>0.004302</td>\n",
       "      <td>0.007939</td>\n",
       "    </tr>\n",
       "  </tbody>\n",
       "</table>\n",
       "<p>5 rows × 859 columns</p>\n",
       "</div>"
      ],
      "text/plain": [
       "                  Unnamed: 0  Unnamed: 0.1  AMT_CREDIT  AMT_GOODS_PRICE  \\\n",
       "Unnamed: 0          1.000000      1.000000    0.042400         0.042463   \n",
       "Unnamed: 0.1        1.000000      1.000000    0.042400         0.042463   \n",
       "AMT_CREDIT          0.042400      0.042400    1.000000         0.987161   \n",
       "AMT_GOODS_PRICE     0.042463      0.042463    0.987161         1.000000   \n",
       "AMT_INCOME_TOTAL    0.020216      0.020216    0.345288         0.351689   \n",
       "\n",
       "                  AMT_INCOME_TOTAL  AMT_REQ_CREDIT_BUREAU_MON  \\\n",
       "Unnamed: 0                0.020216                   0.061768   \n",
       "Unnamed: 0.1              0.020216                   0.061768   \n",
       "AMT_CREDIT                0.345288                   0.058058   \n",
       "AMT_GOODS_PRICE           0.351689                   0.059860   \n",
       "AMT_INCOME_TOTAL          1.000000                   0.053109   \n",
       "\n",
       "                  AMT_REQ_CREDIT_BUREAU_QRT  AMT_REQ_CREDIT_BUREAU_YEAR  \\\n",
       "Unnamed: 0                         0.092033                    0.012808   \n",
       "Unnamed: 0.1                       0.092033                    0.012808   \n",
       "AMT_CREDIT                         0.003924                    0.047655   \n",
       "AMT_GOODS_PRICE                    0.003988                    0.050087   \n",
       "AMT_INCOME_TOTAL                   0.018480                    0.027367   \n",
       "\n",
       "                  APARTMENTS_AVG  APARTMENTS_MEDI  \\\n",
       "Unnamed: 0              0.010543         0.010817   \n",
       "Unnamed: 0.1            0.010543         0.010817   \n",
       "AMT_CREDIT              0.060684         0.058884   \n",
       "AMT_GOODS_PRICE         0.065053         0.063297   \n",
       "AMT_INCOME_TOTAL        0.104055         0.101930   \n",
       "\n",
       "                                    ...                     \\\n",
       "Unnamed: 0                          ...                      \n",
       "Unnamed: 0.1                        ...                      \n",
       "AMT_CREDIT                          ...                      \n",
       "AMT_GOODS_PRICE                     ...                      \n",
       "AMT_INCOME_TOTAL                    ...                      \n",
       "\n",
       "                  INS_ins AMT_INSTALMENT - AMT_PAYMENT_MIN  \\\n",
       "Unnamed: 0                                        0.009414   \n",
       "Unnamed: 0.1                                      0.009414   \n",
       "AMT_CREDIT                                        0.074020   \n",
       "AMT_GOODS_PRICE                                   0.076175   \n",
       "AMT_INCOME_TOTAL                                  0.079044   \n",
       "\n",
       "                  INS_ins AMT_INSTALMENT - AMT_PAYMENT_MAX  \\\n",
       "Unnamed: 0                                        0.006551   \n",
       "Unnamed: 0.1                                      0.006551   \n",
       "AMT_CREDIT                                        0.053792   \n",
       "AMT_GOODS_PRICE                                   0.053135   \n",
       "AMT_INCOME_TOTAL                                  0.104320   \n",
       "\n",
       "                  INS_ins AMT_INSTALMENT - AMT_PAYMENT_MEAN  \\\n",
       "Unnamed: 0                                         0.009100   \n",
       "Unnamed: 0.1                                       0.009100   \n",
       "AMT_CREDIT                                         0.064027   \n",
       "AMT_GOODS_PRICE                                    0.067531   \n",
       "AMT_INCOME_TOTAL                                   0.051465   \n",
       "\n",
       "                  INS_ins AMT_INSTALMENT - AMT_PAYMENT_VAR  \\\n",
       "Unnamed: 0                                        0.000899   \n",
       "Unnamed: 0.1                                      0.000899   \n",
       "AMT_CREDIT                                        0.054479   \n",
       "AMT_GOODS_PRICE                                   0.056794   \n",
       "AMT_INCOME_TOTAL                                  0.054266   \n",
       "\n",
       "                  INS_ins AMT_INSTALMENT - AMT_PAYMENT_SUM  \\\n",
       "Unnamed: 0                                        0.011408   \n",
       "Unnamed: 0.1                                      0.011408   \n",
       "AMT_CREDIT                                        0.062338   \n",
       "AMT_GOODS_PRICE                                   0.065364   \n",
       "AMT_INCOME_TOTAL                                  0.046261   \n",
       "\n",
       "                  INS_ins AMT_PAYMENT / AMT_INSTALMENT_MIN  \\\n",
       "Unnamed: 0                                        0.001190   \n",
       "Unnamed: 0.1                                      0.001190   \n",
       "AMT_CREDIT                                        0.006213   \n",
       "AMT_GOODS_PRICE                                   0.008877   \n",
       "AMT_INCOME_TOTAL                                  0.024672   \n",
       "\n",
       "                  INS_ins AMT_PAYMENT / AMT_INSTALMENT_MAX  \\\n",
       "Unnamed: 0                                        0.003166   \n",
       "Unnamed: 0.1                                      0.003166   \n",
       "AMT_CREDIT                                        0.003033   \n",
       "AMT_GOODS_PRICE                                   0.002739   \n",
       "AMT_INCOME_TOTAL                                  0.004959   \n",
       "\n",
       "                  INS_ins AMT_PAYMENT / AMT_INSTALMENT_MEAN  \\\n",
       "Unnamed: 0                                         0.004924   \n",
       "Unnamed: 0.1                                       0.004924   \n",
       "AMT_CREDIT                                         0.002241   \n",
       "AMT_GOODS_PRICE                                    0.002246   \n",
       "AMT_INCOME_TOTAL                                   0.006469   \n",
       "\n",
       "                  INS_ins AMT_PAYMENT / AMT_INSTALMENT_VAR  \\\n",
       "Unnamed: 0                                        0.003779   \n",
       "Unnamed: 0.1                                      0.003779   \n",
       "AMT_CREDIT                                        0.001578   \n",
       "AMT_GOODS_PRICE                                   0.001257   \n",
       "AMT_INCOME_TOTAL                                  0.004302   \n",
       "\n",
       "                  INS_ins AMT_PAYMENT / AMT_INSTALMENT_SUM  \n",
       "Unnamed: 0                                        0.002254  \n",
       "Unnamed: 0.1                                      0.002254  \n",
       "AMT_CREDIT                                        0.005999  \n",
       "AMT_GOODS_PRICE                                   0.005473  \n",
       "AMT_INCOME_TOTAL                                  0.007939  \n",
       "\n",
       "[5 rows x 859 columns]"
      ]
     },
     "execution_count": 5,
     "metadata": {},
     "output_type": "execute_result"
    }
   ],
   "source": [
    "corr_matrix.head()"
   ]
  },
  {
   "cell_type": "code",
   "execution_count": 6,
   "metadata": {},
   "outputs": [
    {
     "name": "stdout",
     "output_type": "stream",
     "text": [
      "There are 533 columns to remove.\n",
      "Dataframe shape:  (356244, 326)\n"
     ]
    }
   ],
   "source": [
    "# Upper triangle of correlations\n",
    "upper = corr_matrix.where(np.triu(np.ones(corr_matrix.shape), k=1).astype(np.bool))\n",
    "upper.head()\n",
    "\n",
    "# Select column with correlations above threshold\n",
    "to_drop = [column for column in upper.columns if any(upper[column] > threshold)]\n",
    "\n",
    "print('There are %d columns to remove.' % (len(to_drop)))\n",
    "\n",
    "# Drop correlated columns\n",
    "df = df.drop(columns = to_drop)\n",
    "print('Dataframe shape: ', df.shape)"
   ]
  },
  {
   "cell_type": "code",
   "execution_count": null,
   "metadata": {},
   "outputs": [],
   "source": [
    "df.head()"
   ]
  },
  {
   "cell_type": "code",
   "execution_count": null,
   "metadata": {},
   "outputs": [],
   "source": [
    "df.to_csv('../Input/Cleaned_Aggregated_Features_Removed_Correlated.csv')"
   ]
  },
  {
   "cell_type": "code",
   "execution_count": 7,
   "metadata": {},
   "outputs": [],
   "source": [
    "df.to_csv('../Input/Aggregated_Removed_Empty_60_Corr.csv')"
   ]
  },
  {
   "cell_type": "code",
   "execution_count": null,
   "metadata": {},
   "outputs": [],
   "source": []
  }
 ],
 "metadata": {
  "kernelspec": {
   "display_name": "Python 3",
   "language": "python",
   "name": "python3"
  },
  "language_info": {
   "codemirror_mode": {
    "name": "ipython",
    "version": 3
   },
   "file_extension": ".py",
   "mimetype": "text/x-python",
   "name": "python",
   "nbconvert_exporter": "python",
   "pygments_lexer": "ipython3",
   "version": "3.6.4"
  }
 },
 "nbformat": 4,
 "nbformat_minor": 2
}
